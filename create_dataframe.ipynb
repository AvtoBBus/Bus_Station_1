{
 "cells": [
  {
   "cell_type": "code",
   "execution_count": 1,
   "metadata": {},
   "outputs": [],
   "source": [
    "import pandas as pd\n",
    "import csv\n",
    "import re\n",
    "import cv2\n",
    "import os\n",
    "import random\n",
    "import numpy as np\n",
    "from matplotlib import pyplot as plt\n",
    "import multiprocessing\n"
   ]
  },
  {
   "cell_type": "markdown",
   "metadata": {},
   "source": [
    "Фильтрация по имени класса"
   ]
  },
  {
   "cell_type": "code",
   "execution_count": 2,
   "metadata": {},
   "outputs": [],
   "source": [
    "def filter_by_class_name(input_df: pd.DataFrame, name_class: str) -> pd.DataFrame:\n",
    "    mask = (input_df.Class == name_class)\n",
    "    new_df = (input_df[mask])\n",
    "    return new_df"
   ]
  },
  {
   "cell_type": "markdown",
   "metadata": {},
   "source": [
    "Сортировка dataframe по заданному значению высоты или ширины изображений\n",
    "\n",
    "if sort parameter = width => w_or_h = True, else w_or_h = False"
   ]
  },
  {
   "cell_type": "code",
   "execution_count": 3,
   "metadata": {},
   "outputs": [],
   "source": [
    "def filter_by_size(input_df: pd.DataFrame, value: int, w_or_h: bool) -> pd.DataFrame:\n",
    "    if w_or_h:\n",
    "        mask = (input_df.Image_width <= int(value))\n",
    "    else:\n",
    "        mask = (input_df.Image_hight <= int(value))\n",
    "    new_df = (input_df[mask])\n",
    "    return new_df"
   ]
  },
  {
   "cell_type": "markdown",
   "metadata": {},
   "source": [
    "формирование гистограммы для определённого цвета\n",
    "\n",
    "Входные данные в формате кортежа или списка: (данные_о_цвете, имя_цвета{r, g, b})"
   ]
  },
  {
   "cell_type": "code",
   "execution_count": 4,
   "metadata": {},
   "outputs": [],
   "source": [
    "def show_hist(color_and_name_color: list) -> None:\n",
    "    col = color_and_name_color[0]\n",
    "    name_color = color_and_name_color[1]\n",
    "\n",
    "    if name_color == \"r\":\n",
    "        plt.hist(col, color=\"red\")\n",
    "        plt.title(\"Histogram of red color\", color=\"red\")\n",
    "    if name_color == \"g\":\n",
    "        plt.hist(col, color=\"green\")\n",
    "        plt.title(\"Histogram of green color\", color=\"green\")\n",
    "    if name_color == \"b\":\n",
    "        plt.hist(col, color=\"blue\")\n",
    "        plt.title(\"Histogram of blue color\", color=\"blue\")\n",
    "    plt.xlabel(\"Intensity\")\n",
    "    plt.ylabel(\"Number of pixels\")\n",
    "    plt.show()"
   ]
  },
  {
   "cell_type": "markdown",
   "metadata": {},
   "source": [
    "Создание и вывод гистограммы по случайно выбранной картинке\n",
    "\n",
    "Вывод выбранной фотографии(закоментирован так как возникают некоторые проблемы с выводом в Jupiter)"
   ]
  },
  {
   "cell_type": "code",
   "execution_count": 5,
   "metadata": {},
   "outputs": [],
   "source": [
    "def create_histogram(input_df: pd.DataFrame, name_class: str) -> None:\n",
    "    result = [[], [], []]\n",
    "    abs_way_list = filter_by_class_name(input_df, name_class)[\n",
    "        \"The_Absolute_way\"].tolist()\n",
    "    abs_way = str(abs_way_list[random.randint(0, len(abs_way_list) - 1)])\n",
    "    image = cv2.imdecode(np.fromfile(\n",
    "        abs_way, dtype=np.uint8), cv2.IMREAD_COLOR)\n",
    "    #cv2.imshow(\"Original image\", image)\n",
    "    color = ('b', 'g', 'r')\n",
    "    for i, col in enumerate(color):\n",
    "        histr = cv2.calcHist([image], [i], None, [256], [0, 256])\n",
    "        result[-i+1] = histr\n",
    "        plt.plot(histr, color=col)\n",
    "        plt.xlim([0, 256])\n",
    "    plt.show()\n",
    "    return result"
   ]
  },
  {
   "cell_type": "markdown",
   "metadata": {},
   "source": [
    "Считавание колонки под номером number_of_cell в файле с путём way_to_file"
   ]
  },
  {
   "cell_type": "code",
   "execution_count": 6,
   "metadata": {},
   "outputs": [],
   "source": [
    "def read_csv(way_to_file: str, number_of_cell: int) -> list:\n",
    "    read_list = []\n",
    "    file = open(way_to_file, \"r\", encoding=\"utf-8\")\n",
    "    reader = csv.reader(file, delimiter=\"\\t\")\n",
    "    for row in reader:\n",
    "        if number_of_cell == 1:\n",
    "            row_to_app = re.split(\";\", str(row))[number_of_cell]\n",
    "        else:\n",
    "            row_to_app = re.split(\";\", str(row))[number_of_cell][0:-2]\n",
    "        read_list.append(row_to_app)\n",
    "    return read_list"
   ]
  },
  {
   "cell_type": "markdown",
   "metadata": {},
   "source": [
    "Основная функция создания всего dataframe, а также выполнение сортировки и вывода гистограмм"
   ]
  },
  {
   "cell_type": "code",
   "execution_count": 7,
   "metadata": {},
   "outputs": [
    {
     "name": "stdout",
     "output_type": "stream",
     "text": [
      "          Class                                   The_Absolute_way Num_point  \\\n",
      "0         zebra  f:\\BRUH_Files\\учёба\\проектики\\пп лаба 2\\Bus_St...         0   \n",
      "1     bay_horse  f:\\BRUH_Files\\учёба\\проектики\\пп лаба 2\\Bus_St...         1   \n",
      "2         zebra  f:\\BRUH_Files\\учёба\\проектики\\пп лаба 2\\Bus_St...         0   \n",
      "3     bay_horse  f:\\BRUH_Files\\учёба\\проектики\\пп лаба 2\\Bus_St...         1   \n",
      "4         zebra  f:\\BRUH_Files\\учёба\\проектики\\пп лаба 2\\Bus_St...         0   \n",
      "...         ...                                                ...       ...   \n",
      "2095  bay_horse  f:\\BRUH_Files\\учёба\\проектики\\пп лаба 2\\Bus_St...         1   \n",
      "2096      zebra  f:\\BRUH_Files\\учёба\\проектики\\пп лаба 2\\Bus_St...         0   \n",
      "2097  bay_horse  f:\\BRUH_Files\\учёба\\проектики\\пп лаба 2\\Bus_St...         1   \n",
      "2098      zebra  f:\\BRUH_Files\\учёба\\проектики\\пп лаба 2\\Bus_St...         0   \n",
      "2099  bay_horse  f:\\BRUH_Files\\учёба\\проектики\\пп лаба 2\\Bus_St...         1   \n",
      "\n",
      "      Image_width  Image_hight  Number_of_chanel Number of pixels  \n",
      "0             480          318                 3           152640  \n",
      "1             400          320                 3           128000  \n",
      "2             480          320                 3           153600  \n",
      "3             448          320                 3           143360  \n",
      "4             427          320                 3           136640  \n",
      "...           ...          ...               ...              ...  \n",
      "2095          480          270                 3           129600  \n",
      "2096          480          270                 3           129600  \n",
      "2097          480          270                 3           129600  \n",
      "2098          480          320                 3           153600  \n",
      "2099          480          270                 3           129600  \n",
      "\n",
      "[2100 rows x 7 columns]\n"
     ]
    }
   ],
   "source": [
    "list_abs_way = read_csv(\"dataset.csv\", 1)\n",
    "list_name_class = read_csv(\"dataset.csv\", 2)\n",
    "list_bin = [\"Num_point\"]\n",
    "list_image_width = [\"Image_width\"]\n",
    "list_image_hight = [\"Image_hight\"]\n",
    "list_image_depth = [\"Number_of_chanel\"]\n",
    "list_image_pix = [\"Number of pixels\"]\n",
    "for row in list_name_class:\n",
    "    if row == \"zebra\":\n",
    "        list_bin.append(\"0\")\n",
    "    if row == \"bay_horse\":\n",
    "        list_bin.append(\"1\")\n",
    "for way in list_abs_way:\n",
    "    try:\n",
    "        image = cv2.imread(way)\n",
    "        list_image_width.append(image.shape[1])\n",
    "        list_image_hight.append(image.shape[0])\n",
    "        list_image_depth.append(image.shape[2])\n",
    "        list_image_pix.append(\n",
    "            str(int(image.shape[0]) * int(image.shape[1])))\n",
    "    except:\n",
    "        pass\n",
    "for i in range(1, len(list_abs_way)):\n",
    "    try:\n",
    "        list_abs_way[i] = os.path.abspath(list_abs_way[i])\n",
    "    except:\n",
    "        pass\n",
    "list_abs_way[0] = \"The_Absolute_way\"\n",
    "df = pd.DataFrame(\n",
    "    {\n",
    "        list_name_class[0]: pd.array(list_name_class[1:]),\n",
    "        list_abs_way[0]: pd.array(list_abs_way[1:]),\n",
    "        list_bin[0]: pd.array(list_bin[1:]),\n",
    "        list_image_width[0]: pd.array(list_image_width[1:]),\n",
    "        list_image_hight[0]: pd.array(list_image_hight[1:]),\n",
    "        list_image_depth[0]: pd.array(list_image_depth[1:]),\n",
    "        list_image_pix[0]: pd.array(list_image_pix[1:])\n",
    "    }\n",
    ")\n",
    "print(df)"
   ]
  },
  {
   "cell_type": "code",
   "execution_count": 8,
   "metadata": {},
   "outputs": [
    {
     "name": "stdout",
     "output_type": "stream",
     "text": [
      "Input name class->      Class                                   The_Absolute_way Num_point  \\\n",
      "0     zebra  f:\\BRUH_Files\\учёба\\проектики\\пп лаба 2\\Bus_St...         0   \n",
      "2     zebra  f:\\BRUH_Files\\учёба\\проектики\\пп лаба 2\\Bus_St...         0   \n",
      "4     zebra  f:\\BRUH_Files\\учёба\\проектики\\пп лаба 2\\Bus_St...         0   \n",
      "6     zebra  f:\\BRUH_Files\\учёба\\проектики\\пп лаба 2\\Bus_St...         0   \n",
      "8     zebra  f:\\BRUH_Files\\учёба\\проектики\\пп лаба 2\\Bus_St...         0   \n",
      "...     ...                                                ...       ...   \n",
      "2090  zebra  f:\\BRUH_Files\\учёба\\проектики\\пп лаба 2\\Bus_St...         0   \n",
      "2092  zebra  f:\\BRUH_Files\\учёба\\проектики\\пп лаба 2\\Bus_St...         0   \n",
      "2094  zebra  f:\\BRUH_Files\\учёба\\проектики\\пп лаба 2\\Bus_St...         0   \n",
      "2096  zebra  f:\\BRUH_Files\\учёба\\проектики\\пп лаба 2\\Bus_St...         0   \n",
      "2098  zebra  f:\\BRUH_Files\\учёба\\проектики\\пп лаба 2\\Bus_St...         0   \n",
      "\n",
      "      Image_width  Image_hight  Number_of_chanel Number of pixels  \n",
      "0             480          318                 3           152640  \n",
      "2             480          320                 3           153600  \n",
      "4             427          320                 3           136640  \n",
      "6             427          320                 3           136640  \n",
      "8             480          320                 3           153600  \n",
      "...           ...          ...               ...              ...  \n",
      "2090          256          320                 3            81920  \n",
      "2092          320          320                 3           102400  \n",
      "2094          479          320                 3           153280  \n",
      "2096          480          270                 3           129600  \n",
      "2098          480          320                 3           153600  \n",
      "\n",
      "[1050 rows x 7 columns]\n"
     ]
    }
   ],
   "source": [
    "start = False\n",
    "while not start:\n",
    "    print(\"Input name class->\", end='')\n",
    "    input_nc = input()\n",
    "    os.system('cls')\n",
    "    if input_nc in list_name_class:\n",
    "        start = True\n",
    "        print(filter_by_class_name(df, input_nc))"
   ]
  },
  {
   "cell_type": "code",
   "execution_count": 9,
   "metadata": {},
   "outputs": [
    {
     "name": "stdout",
     "output_type": "stream",
     "text": [
      "Input width->Input hight->      Class                                   The_Absolute_way Num_point  \\\n",
      "14    zebra  f:\\BRUH_Files\\учёба\\проектики\\пп лаба 2\\Bus_St...         0   \n",
      "26    zebra  f:\\BRUH_Files\\учёба\\проектики\\пп лаба 2\\Bus_St...         0   \n",
      "28    zebra  f:\\BRUH_Files\\учёба\\проектики\\пп лаба 2\\Bus_St...         0   \n",
      "34    zebra  f:\\BRUH_Files\\учёба\\проектики\\пп лаба 2\\Bus_St...         0   \n",
      "40    zebra  f:\\BRUH_Files\\учёба\\проектики\\пп лаба 2\\Bus_St...         0   \n",
      "...     ...                                                ...       ...   \n",
      "2076  zebra  f:\\BRUH_Files\\учёба\\проектики\\пп лаба 2\\Bus_St...         0   \n",
      "2078  zebra  f:\\BRUH_Files\\учёба\\проектики\\пп лаба 2\\Bus_St...         0   \n",
      "2084  zebra  f:\\BRUH_Files\\учёба\\проектики\\пп лаба 2\\Bus_St...         0   \n",
      "2090  zebra  f:\\BRUH_Files\\учёба\\проектики\\пп лаба 2\\Bus_St...         0   \n",
      "2092  zebra  f:\\BRUH_Files\\учёба\\проектики\\пп лаба 2\\Bus_St...         0   \n",
      "\n",
      "      Image_width  Image_hight  Number_of_chanel Number of pixels  \n",
      "14            338          320                 3           108160  \n",
      "26            372          320                 3           119040  \n",
      "28            350          320                 3           112000  \n",
      "34            319          320                 3           102080  \n",
      "40            382          320                 3           122240  \n",
      "...           ...          ...               ...              ...  \n",
      "2076          400          320                 3           128000  \n",
      "2078          213          320                 3            68160  \n",
      "2084          213          320                 3            68160  \n",
      "2090          256          320                 3            81920  \n",
      "2092          320          320                 3           102400  \n",
      "\n",
      "[176 rows x 7 columns]\n"
     ]
    }
   ],
   "source": [
    "print(\"Input width->\", end='')\n",
    "input_w = input()\n",
    "print(\"Input hight->\", end='')\n",
    "input_h = input()\n",
    "os.system('cls')\n",
    "first_sort_df = filter_by_size(filter_by_class_name(\n",
    "    df, input_nc), input_w, True)\n",
    "print(filter_by_size(first_sort_df, input_h, False))"
   ]
  },
  {
   "cell_type": "code",
   "execution_count": 10,
   "metadata": {},
   "outputs": [
    {
     "name": "stdout",
     "output_type": "stream",
     "text": [
      "count         176.0\n",
      "mean     294.755682\n",
      "std        64.33717\n",
      "min           160.0\n",
      "25%           236.5\n",
      "50%           320.0\n",
      "75%           332.5\n",
      "max           400.0\n",
      "Name: Image_width, dtype: Float64\n",
      "count    176.0\n",
      "mean     320.0\n",
      "std        0.0\n",
      "min      320.0\n",
      "25%      320.0\n",
      "50%      320.0\n",
      "75%      320.0\n",
      "max      320.0\n",
      "Name: Image_hight, dtype: Float64\n",
      "count    176.0\n",
      "mean       3.0\n",
      "std        0.0\n",
      "min        3.0\n",
      "25%        3.0\n",
      "50%        3.0\n",
      "75%        3.0\n",
      "max        3.0\n",
      "Name: Number_of_chanel, dtype: Float64\n"
     ]
    },
    {
     "data": {
      "image/png": "[encoded data removed]",
      "text/plain": [
       "<Figure size 640x480 with 1 Axes>"
      ]
     },
     "metadata": {},
     "output_type": "display_data"
    }
   ],
   "source": [
    "print(first_sort_df[\"Image_width\"].describe())\n",
    "print(first_sort_df[\"Image_hight\"].describe())\n",
    "print(first_sort_df[\"Number_of_chanel\"].describe())\n",
    "list_of_color = create_histogram(df, input_nc)"
   ]
  },
  {
   "cell_type": "markdown",
   "metadata": {},
   "source": [
    "!MULTIPROCESSING НЕ РАБОТАЕТ В ДАННОМ ФОРМАТЕ, ОДНАКО ЕСЛИ ЗАПУСТИТЬ В ПИТОН ФАЙЛЕ, ТО СДЕЛАЕТ ВСЁ БЫСТРО И КРАСИВО!"
   ]
  },
  {
   "cell_type": "code",
   "execution_count": null,
   "metadata": {},
   "outputs": [],
   "source": [
    "list_arg = [\n",
    "    (list_of_color[0], 'r'),\n",
    "    (list_of_color[1], 'g'),\n",
    "    (list_of_color[2], 'b')\n",
    "]\n",
    "\n",
    "with multiprocessing.Pool(multiprocessing.cpu_count()) as p:\n",
    "    p.map(show_hist, list_arg)"
   ]
  }
 ],
 "metadata": {
  "kernelspec": {
   "display_name": "Python 3.10.2 64-bit",
   "language": "python",
   "name": "python3"
  },
  "language_info": {
   "codemirror_mode": {
    "name": "ipython",
    "version": 3
   },
   "file_extension": ".py",
   "mimetype": "text/x-python",
   "name": "python",
   "nbconvert_exporter": "python",
   "pygments_lexer": "ipython3",
   "version": "3.10.2"
  },
  "orig_nbformat": 4,
  "vscode": {
   "interpreter": {
    "hash": "e2623404bc18cf5d5d5bed677fcb9f8da3dbdb536173fd9eba03ea70a164f0dd"
   }
  }
 },
 "nbformat": 4,
 "nbformat_minor": 2
}
